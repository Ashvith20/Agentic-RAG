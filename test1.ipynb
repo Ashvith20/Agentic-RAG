{
 "cells": [
  {
   "cell_type": "code",
   "execution_count": 55,
   "id": "51920c01",
   "metadata": {},
   "outputs": [],
   "source": [
    "from langgraph.graph import StateGraph, END, START\n",
    "from typing import TypedDict"
   ]
  },
  {
   "cell_type": "code",
   "execution_count": 56,
   "id": "bde492e6",
   "metadata": {},
   "outputs": [],
   "source": [
    "# define a StateGraph\n",
    "class BMIState(TypedDict):\n",
    "    weight_kg:float\n",
    "    height_m:float\n",
    "    BMI:float\n",
    "    Category:str"
   ]
  },
  {
   "cell_type": "code",
   "execution_count": 57,
   "id": "d31c9317",
   "metadata": {},
   "outputs": [],
   "source": [
    "def calculate_BMI(state:BMIState) -> BMIState:\n",
    "    weight=state[\"weight_kg\"]\n",
    "    height=state[\"height_m\"]\n",
    "    BMI=weight/(height**2)\n",
    "    state[\"BMI\"]=round(BMI,2)\n",
    "    return state\n"
   ]
  },
  {
   "cell_type": "code",
   "execution_count": null,
   "id": "d14db567",
   "metadata": {},
   "outputs": [],
   "source": []
  },
  {
   "cell_type": "code",
   "execution_count": 58,
   "id": "0eb38395",
   "metadata": {},
   "outputs": [],
   "source": [
    "def label_bmi(state:BMIState)->BMIState:\n",
    "    BMI=state[\"BMI\"]\n",
    "    if BMI < 18.5:\n",
    "     state[\"Category\"]=\"Underweight\"\n",
    "    elif 18.5 <= BMI<25:\n",
    "     state[\"Category\"]=\"Normal\"\n",
    "    elif 25<=BMI<30:\n",
    "     state[\"Category\"]=\"overweight\"\n",
    "    else:\n",
    "     state[\"Category\"]=\"Obese\"\n",
    "\n",
    "    return state\n",
    "\n",
    "\n",
    "    "
   ]
  },
  {
   "cell_type": "markdown",
   "id": "138efe99",
   "metadata": {},
   "source": []
  },
  {
   "cell_type": "code",
   "execution_count": 59,
   "id": "05d17718",
   "metadata": {},
   "outputs": [],
   "source": [
    "state=StateGraph(BMIState)\n",
    "\n",
    "state.add_node('calculate_BMI',calculate_BMI)\n",
    "state.add_node('label_bmi',label_bmi)\n",
    "state.add_edge(START,'calculate_BMI')\n",
    "state.add_edge('calculate_BMI','label_bmi')\n",
    "state.add_edge('label_bmi',END)\n",
    "workflow=state.compile()\n",
    "\n",
    "\n"
   ]
  },
  {
   "cell_type": "code",
   "execution_count": 60,
   "id": "a20ba00b",
   "metadata": {},
   "outputs": [
    {
     "name": "stdout",
     "output_type": "stream",
     "text": [
      "{'weight_kg': 70, 'height_m': 1.8, 'BMI': 21.6, 'Category': 'Normal'}\n"
     ]
    }
   ],
   "source": [
    "final_state=workflow.invoke({\"weight_kg\":70,\"height_m\":1.8})\n",
    "print(final_state)"
   ]
  },
  {
   "cell_type": "code",
   "execution_count": 61,
   "id": "73361953",
   "metadata": {},
   "outputs": [
    {
     "data": {
      "image/png": "[encoded data removed]",
      "text/plain": [
       "<IPython.core.display.Image object>"
      ]
     },
     "execution_count": 61,
     "metadata": {},
     "output_type": "execute_result"
    }
   ],
   "source": [
    "from IPython.display import Image\n",
    "\n",
    "# Visualize the graph\n",
    "Image(workflow.get_graph().draw_mermaid_png())"
   ]
  }
 ],
 "metadata": {
  "kernelspec": {
   "display_name": "myenv",
   "language": "python",
   "name": "python3"
  },
  "language_info": {
   "codemirror_mode": {
    "name": "ipython",
    "version": 3
   },
   "file_extension": ".py",
   "mimetype": "text/x-python",
   "name": "python",
   "nbconvert_exporter": "python",
   "pygments_lexer": "ipython3",
   "version": "3.13.7"
  }
 },
 "nbformat": 4,
 "nbformat_minor": 5
}
